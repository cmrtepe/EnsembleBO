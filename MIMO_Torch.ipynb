{
  "nbformat": 4,
  "nbformat_minor": 0,
  "metadata": {
    "colab": {
      "name": "MIMO_Torch.ipynb",
      "provenance": []
    },
    "kernelspec": {
      "name": "python3",
      "display_name": "Python 3"
    },
    "language_info": {
      "name": "python"
    },
    "accelerator": "GPU",
    "widgets": {
      "application/vnd.jupyter.widget-state+json": {
        "7b09092557f94c3298713dce705c4f1e": {
          "model_module": "@jupyter-widgets/controls",
          "model_name": "HBoxModel",
          "state": {
            "_view_name": "HBoxView",
            "_dom_classes": [],
            "_model_name": "HBoxModel",
            "_view_module": "@jupyter-widgets/controls",
            "_model_module_version": "1.5.0",
            "_view_count": null,
            "_view_module_version": "1.5.0",
            "box_style": "",
            "layout": "IPY_MODEL_9b903014f68b4972acb229892295a5ef",
            "_model_module": "@jupyter-widgets/controls",
            "children": [
              "IPY_MODEL_375d1a4d1f564ea08cd35dd20f058b99",
              "IPY_MODEL_01e44bcf93a44b25818c37bf7d9d5371"
            ]
          }
        },
        "9b903014f68b4972acb229892295a5ef": {
          "model_module": "@jupyter-widgets/base",
          "model_name": "LayoutModel",
          "state": {
            "_view_name": "LayoutView",
            "grid_template_rows": null,
            "right": null,
            "justify_content": null,
            "_view_module": "@jupyter-widgets/base",
            "overflow": null,
            "_model_module_version": "1.2.0",
            "_view_count": null,
            "flex_flow": null,
            "width": null,
            "min_width": null,
            "border": null,
            "align_items": null,
            "bottom": null,
            "_model_module": "@jupyter-widgets/base",
            "top": null,
            "grid_column": null,
            "overflow_y": null,
            "overflow_x": null,
            "grid_auto_flow": null,
            "grid_area": null,
            "grid_template_columns": null,
            "flex": null,
            "_model_name": "LayoutModel",
            "justify_items": null,
            "grid_row": null,
            "max_height": null,
            "align_content": null,
            "visibility": null,
            "align_self": null,
            "height": null,
            "min_height": null,
            "padding": null,
            "grid_auto_rows": null,
            "grid_gap": null,
            "max_width": null,
            "order": null,
            "_view_module_version": "1.2.0",
            "grid_template_areas": null,
            "object_position": null,
            "object_fit": null,
            "grid_auto_columns": null,
            "margin": null,
            "display": null,
            "left": null
          }
        },
        "375d1a4d1f564ea08cd35dd20f058b99": {
          "model_module": "@jupyter-widgets/controls",
          "model_name": "FloatProgressModel",
          "state": {
            "_view_name": "ProgressView",
            "style": "IPY_MODEL_7ced4e2ca86546c383c78688d3fdc67d",
            "_dom_classes": [],
            "description": " 20%",
            "_model_name": "FloatProgressModel",
            "bar_style": "danger",
            "max": 5,
            "_view_module": "@jupyter-widgets/controls",
            "_model_module_version": "1.5.0",
            "value": 1,
            "_view_count": null,
            "_view_module_version": "1.5.0",
            "orientation": "horizontal",
            "min": 0,
            "description_tooltip": null,
            "_model_module": "@jupyter-widgets/controls",
            "layout": "IPY_MODEL_0a55118db25a42ec9895c6d92959af2f"
          }
        },
        "01e44bcf93a44b25818c37bf7d9d5371": {
          "model_module": "@jupyter-widgets/controls",
          "model_name": "HTMLModel",
          "state": {
            "_view_name": "HTMLView",
            "style": "IPY_MODEL_ad7fae580cfd4f66b75b92fbc3169a13",
            "_dom_classes": [],
            "description": "",
            "_model_name": "HTMLModel",
            "placeholder": "​",
            "_view_module": "@jupyter-widgets/controls",
            "_model_module_version": "1.5.0",
            "value": " 1/5 [01:42&lt;03:43, 55.82s/it]",
            "_view_count": null,
            "_view_module_version": "1.5.0",
            "description_tooltip": null,
            "_model_module": "@jupyter-widgets/controls",
            "layout": "IPY_MODEL_9da003b4bf0445ec8b21c8419036ca8a"
          }
        },
        "7ced4e2ca86546c383c78688d3fdc67d": {
          "model_module": "@jupyter-widgets/controls",
          "model_name": "ProgressStyleModel",
          "state": {
            "_view_name": "StyleView",
            "_model_name": "ProgressStyleModel",
            "description_width": "initial",
            "_view_module": "@jupyter-widgets/base",
            "_model_module_version": "1.5.0",
            "_view_count": null,
            "_view_module_version": "1.2.0",
            "bar_color": null,
            "_model_module": "@jupyter-widgets/controls"
          }
        },
        "0a55118db25a42ec9895c6d92959af2f": {
          "model_module": "@jupyter-widgets/base",
          "model_name": "LayoutModel",
          "state": {
            "_view_name": "LayoutView",
            "grid_template_rows": null,
            "right": null,
            "justify_content": null,
            "_view_module": "@jupyter-widgets/base",
            "overflow": null,
            "_model_module_version": "1.2.0",
            "_view_count": null,
            "flex_flow": null,
            "width": null,
            "min_width": null,
            "border": null,
            "align_items": null,
            "bottom": null,
            "_model_module": "@jupyter-widgets/base",
            "top": null,
            "grid_column": null,
            "overflow_y": null,
            "overflow_x": null,
            "grid_auto_flow": null,
            "grid_area": null,
            "grid_template_columns": null,
            "flex": null,
            "_model_name": "LayoutModel",
            "justify_items": null,
            "grid_row": null,
            "max_height": null,
            "align_content": null,
            "visibility": null,
            "align_self": null,
            "height": null,
            "min_height": null,
            "padding": null,
            "grid_auto_rows": null,
            "grid_gap": null,
            "max_width": null,
            "order": null,
            "_view_module_version": "1.2.0",
            "grid_template_areas": null,
            "object_position": null,
            "object_fit": null,
            "grid_auto_columns": null,
            "margin": null,
            "display": null,
            "left": null
          }
        },
        "ad7fae580cfd4f66b75b92fbc3169a13": {
          "model_module": "@jupyter-widgets/controls",
          "model_name": "DescriptionStyleModel",
          "state": {
            "_view_name": "StyleView",
            "_model_name": "DescriptionStyleModel",
            "description_width": "",
            "_view_module": "@jupyter-widgets/base",
            "_model_module_version": "1.5.0",
            "_view_count": null,
            "_view_module_version": "1.2.0",
            "_model_module": "@jupyter-widgets/controls"
          }
        },
        "9da003b4bf0445ec8b21c8419036ca8a": {
          "model_module": "@jupyter-widgets/base",
          "model_name": "LayoutModel",
          "state": {
            "_view_name": "LayoutView",
            "grid_template_rows": null,
            "right": null,
            "justify_content": null,
            "_view_module": "@jupyter-widgets/base",
            "overflow": null,
            "_model_module_version": "1.2.0",
            "_view_count": null,
            "flex_flow": null,
            "width": null,
            "min_width": null,
            "border": null,
            "align_items": null,
            "bottom": null,
            "_model_module": "@jupyter-widgets/base",
            "top": null,
            "grid_column": null,
            "overflow_y": null,
            "overflow_x": null,
            "grid_auto_flow": null,
            "grid_area": null,
            "grid_template_columns": null,
            "flex": null,
            "_model_name": "LayoutModel",
            "justify_items": null,
            "grid_row": null,
            "max_height": null,
            "align_content": null,
            "visibility": null,
            "align_self": null,
            "height": null,
            "min_height": null,
            "padding": null,
            "grid_auto_rows": null,
            "grid_gap": null,
            "max_width": null,
            "order": null,
            "_view_module_version": "1.2.0",
            "grid_template_areas": null,
            "object_position": null,
            "object_fit": null,
            "grid_auto_columns": null,
            "margin": null,
            "display": null,
            "left": null
          }
        }
      }
    }
  },
  "cells": [
    {
      "cell_type": "code",
      "metadata": {
        "id": "NxxxgsK0phRX"
      },
      "source": [
        "import numpy as np\n",
        "\n",
        "import torch\n",
        "import torch.nn as nn\n",
        "import torch.optim as optim\n",
        "import torch.nn.functional as F\n",
        "from torch.utils import data\n",
        "from torch import cuda\n",
        "\n",
        "device = \"cuda\" if cuda.is_available() else \"cpu\"\n",
        "\n",
        "def create_mimo(architecture, data_dim=1, ens_size=1):\n",
        "    \"\"\"Create a MIMO model by expanding input/ouput layer by ensemble size.\"\"\"\n",
        "    # The only modification needed by MIMO: expand input/output layer by ensemble size\n",
        "    num_logits = 1  # Since this is a regression problem.\n",
        "    inputs_size = data_dim * ens_size\n",
        "    outputs_size = num_logits * ens_size\n",
        "    \n",
        "    layers = []\n",
        "    prev = inputs_size\n",
        "    layers.append(nn.Flatten())\n",
        "    for units in architecture:\n",
        "        layers.append(nn.Linear(prev, units))\n",
        "        layers.append(nn.ReLU())\n",
        "        prev = units\n",
        "    layers.append(nn.Linear(prev, outputs_size))\n",
        "\n",
        "    return nn.Sequential(*layers)\n",
        "\n"
      ],
      "execution_count": 1,
      "outputs": []
    },
    {
      "cell_type": "code",
      "metadata": {
        "id": "JgVq_Q4NJ3aD"
      },
      "source": [
        "from torch.distributions.uniform import Uniform\n",
        "\n",
        "class SimpleDataset(data.Dataset):\n",
        "    def __init__(self, input, target):\n",
        "        self.x = input\n",
        "        self.y = target\n",
        "\n",
        "    def __len__(self):\n",
        "        return self.x.shape[0]\n",
        "    def __getitem__(self, idx):\n",
        "        return self.x[[idx],:], self.y[[idx], :]\n",
        "\n",
        "\n",
        "def create_data(n, data_dim=1, data_noise=0.02, batch_size=8, support=(-1., 1.)):\n",
        "  \"\"\"Create regression data from Blundell et al (2016)\n",
        "  \n",
        "  Args: \n",
        "    n: (int) Sample size.\n",
        "    data_dim: (int) The dimensionality of the features. \n",
        "      A 1D feature will first be created, and if data_dim > 1. It will be \n",
        "      projected to data_dim using a random Gaussian matrix.\n",
        "    data_noise: (float) The standard deviation of the observation noise in the data-generation mechanism.\n",
        "    batch_size: (int) Batch size for the tf dataset to be generated.\n",
        "    support: (tuple of float) Range of X to sample the 1D feature from.\n",
        "\n",
        "  Returns:\n",
        "    X0: (ndarray) Original 1D features, shape (n, 1)\n",
        "    y: (ndarray) Response, shape (n, 1)\n",
        "    X: (ndarray) High-dimensional features obtained by projecting X0 to high dimension, shape (n, data_dim)\n",
        "    torch_dataloader: \n",
        "  \"\"\"\n",
        "  # Create 1D features X0.\n",
        "  lower, upper = support\n",
        "  X0 = torch.rand(n,1)* (upper-lower) + lower\n",
        "  noise = torch.rand(n, 1) * data_noise\n",
        "\n",
        "  # Generate response. \n",
        "  y = X0 + 0.3 * torch.sin(2*np.pi * (X0 + noise)) + 0.3 * torch.sin(4*np.pi * (X0 + noise)) + noise\n",
        "\n",
        "  # Embed X0 into high-dimensional space.\n",
        "  X = X0\n",
        "  if data_dim > 1:\n",
        "    Proj_mat = torch.randn(1, data_dim)\n",
        "    X = torch.matmul(X0, Proj_mat)\n",
        "\n",
        "  # Produce high-dimensional dataset.\n",
        "  torch_dataset = SimpleDataset(X.to(device), y.to(device))\n",
        "  torch_dataloader = data.DataLoader(torch_dataset, batch_size, shuffle=True)\n",
        "\n",
        "  return X0.to(device), y.to(device), X.to(device), torch_dataloader"
      ],
      "execution_count": 2,
      "outputs": []
    },
    {
      "cell_type": "code",
      "metadata": {
        "colab": {
          "base_uri": "https://localhost:8080/",
          "height": 265
        },
        "id": "yQBoZRSkNRBS",
        "outputId": "15be532c-29aa-4045-edc2-c9b5da03a5e7"
      },
      "source": [
        "from matplotlib import pyplot as plt\n",
        "\n",
        "torch.manual_seed(100)\n",
        "\n",
        "X0_noiseless, y_noiseless, _, _ = create_data(200, data_noise=0.0, data_dim=64)\n",
        "argsort = torch.argsort(X0_noiseless, 0).flatten()\n",
        "X0_noiseless = X0_noiseless[argsort]\n",
        "y_noiseless = y_noiseless[argsort]\n",
        "\n",
        "X0, y, _, _ = create_data(100, data_noise=0.08)\n",
        "plt.plot(X0_noiseless.detach().cpu().numpy(), y_noiseless.detach().cpu().numpy(), 'k-', label='target function (no noise)')\n",
        "plt.scatter(X0.detach().cpu().numpy(), y.detach().cpu().numpy(), label='target function (with noise)')\n",
        "plt.legend()\n",
        "plt.show()"
      ],
      "execution_count": 3,
      "outputs": [
        {
          "output_type": "display_data",
          "data": {
            "image/png": "[encoded data removed]",
            "text/plain": [
              "<Figure size 432x288 with 1 Axes>"
            ]
          },
          "metadata": {
            "tags": [],
            "needs_background": "light"
          }
        }
      ]
    },
    {
      "cell_type": "markdown",
      "metadata": {
        "id": "eDkur3tbQthm"
      },
      "source": [
        "Training\n"
      ]
    },
    {
      "cell_type": "code",
      "metadata": {
        "id": "tJedjtc8Pq8e"
      },
      "source": [
        "def train(model, data_loader, optimizer, ens_size):\n",
        "\n",
        "    model.train()\n",
        "\n",
        "    total_loss = 0\n",
        "\n",
        "    for batch_id, (input, target) in enumerate(data_loader):\n",
        "\n",
        "        input = input.to(device).float()\n",
        "        target = target.to(device).float()\n",
        "        inputs = [input]\n",
        "        targets = [target]\n",
        "        for _ in range(ens_size - 1):\n",
        "            idx = torch.randperm(target.size(0))\n",
        "            shuffled_in = input[idx].to(device)\n",
        "            shuffled_trg = target[idx].to(device)\n",
        "            inputs.append(shuffled_in)\n",
        "            targets.append(shuffled_trg)\n",
        "        inputs = torch.cat(inputs, dim=1)\n",
        "        targets = torch.cat(targets, dim=1).squeeze(-1)\n",
        "        optimizer.zero_grad()\n",
        "\n",
        "        loss_fun = nn.MSELoss()\n",
        "        pred = model(inputs)\n",
        "        loss = loss_fun(pred, targets)\n",
        "        loss.backward()\n",
        "        optimizer.step()\n",
        "\n",
        "        total_loss += loss\n",
        "    return total_loss.item()/len(data_loader)\n",
        "\n",
        "def test(model, data_loader):\n",
        "    \n",
        "    model.eval()\n",
        "\n",
        "    test_loss = 0\n",
        "\n",
        "    with torch.no_grad():\n",
        "        for batch_id, (input, target) in enumerate(data_loader):\n",
        "           \n",
        "            input = input.to(device).float()\n",
        "            target = target.to(device).float()\n",
        "\n",
        "            output = model(input)\n",
        "\n",
        "            loss_fun = nn.MSELoss()\n",
        "            pred = model(input)\n",
        "            loss = loss_fun(pred, target)\n",
        "\n",
        "            test_loss += loss\n",
        "            \n",
        "    return test_loss.item()/len(data_loader)"
      ],
      "execution_count": 3,
      "outputs": []
    },
    {
      "cell_type": "code",
      "metadata": {
        "colab": {
          "base_uri": "https://localhost:8080/"
        },
        "id": "eYJN55qURwtM",
        "outputId": "2fc88f99-d990-4a12-d2f1-496a96a4cc77"
      },
      "source": [
        "!pip install tqdm\n",
        "\n",
        "from tqdm.notebook import trange"
      ],
      "execution_count": 4,
      "outputs": [
        {
          "output_type": "stream",
          "text": [
            "Requirement already satisfied: tqdm in /usr/local/lib/python3.7/dist-packages (4.41.1)\n"
          ],
          "name": "stdout"
        }
      ]
    },
    {
      "cell_type": "code",
      "metadata": {
        "id": "t65KzF69RXD0"
      },
      "source": [
        "def run_mimo(architecture=(32, 128), ens_sizes=(1, 2, 3, 4, 5),\n",
        "                         lr=0.01, batch_size=4, n_epochs=2000,\n",
        "                         data_dim=1, data_noise=0.08, \n",
        "                         n_train=64, n_test=3000, num_reps=20,\n",
        "                         eval_epoch=2, print_epoch=-1):\n",
        "  \"\"\"Train MIMO model with different ensemble sizes over multiple random seeds.\n",
        "  \n",
        "  Args:\n",
        "    architecture: (tuple of int) Number of units in each hidden layer the MIMO MLP model.\n",
        "    ens_sizes: (tuple of int) Ensemble sizes for MIMO model to evaluate in experiments.\n",
        "    lr: (float) Learning rate.\n",
        "    batch_size: (int) Batch size used for training.\n",
        "    n_epochs: (int) Number of training epochs.\n",
        "    data_dim: (int) Dimensionality of the input features.\n",
        "    data_noise: (float) The standard deviation of the observation noise in the data-generation mechanism.\n",
        "    n_train: (int) Number of training examples.\n",
        "    n_test: (int) Number of test examples.\n",
        "    num_reps: (int) Number of repetitions to conduct for each ensemble size.\n",
        "    eval_epoch: (int) Record eval results every eval_epoch.\n",
        "    print_epoch: (int) Print eval results every print_epoch. Set to -1 to disable.\n",
        "\n",
        "  Returns: \n",
        "    Xtest0: (ndarray) Original 1D features for testing data with support in \n",
        "      (-1., 1.), shape (n, 1)\n",
        "    ytest: (ndarray) Response for testing data, shape (n, 1)\n",
        "    ytest_pred: (dict) A nested dictionary storing evaluation result for each \n",
        "      repetition, each ensemble size, and for specified epochs.\n",
        "    Xtest0_wide: (ndarray) Similar to Xtest0 but from a testing dataset sampled \n",
        "      from a wider support (-2., 2.), shape (n, 1)\n",
        "    ytest_wide: (ndarray) Similar to ytest but from a wider-support test dataset, \n",
        "      shape (n, 1)\n",
        "    ytest_wide_pred: (dict) Similar to ytest_pred but from a wider-support test \n",
        "      dataset.\n",
        "  \"\"\"\n",
        "  torch.manual_seed(0)\n",
        "\n",
        "  # Create testing data.\n",
        "  Xtest0, ytest, Xtest, _ = create_data(n_test, data_dim=data_dim, \n",
        "                                   data_noise=data_noise, support=(-1.,1.))\n",
        "  Xtest0_wide, ytest_wide, Xtest_wide, _ = create_data(n_test, data_dim=data_dim, \n",
        "                                             data_noise=data_noise, support=(-2.,2.))\n",
        "\n",
        "  # Train MIMO models with different ensemble sizes over multiple random seeds.\n",
        "  ytest_pred = {}\n",
        "  ytest_wide_pred = {}\n",
        "\n",
        "  for rep in range(num_reps):\n",
        "    print('Repetition', rep)\n",
        "\n",
        "    _, y, X, training_loader = create_data(n_train, data_dim=data_dim, \n",
        "                                        data_noise=data_noise, batch_size=batch_size)\n",
        "\n",
        "    ytest_pred[rep] = {}\n",
        "    ytest_wide_pred[rep] = {}\n",
        "\n",
        "    for ens_size_id in trange(len(ens_sizes)):\n",
        "      # Specified ensemble size.\n",
        "      ens_size = ens_sizes[ens_size_id]\n",
        "\n",
        "      ytest_pred[rep][ens_size] = {}\n",
        "      ytest_wide_pred[rep][ens_size] = {}\n",
        "\n",
        "      # Train a MIMO model.\n",
        "      \n",
        "      mimo_mlp = create_mimo(architecture, data_dim=data_dim,\n",
        "                             ens_size=ens_size).to(device)\n",
        "      print(mimo_mlp)\n",
        "      \n",
        "      optimizer = torch.optim.Adam(mimo_mlp.parameters(), lr=lr)\n",
        "\n",
        "      for epoch in range(n_epochs):\n",
        "        loss = train(mimo_mlp, training_loader, optimizer, ens_size)\n",
        "\n",
        "        if print_epoch > 0 and epoch % print_epoch == 0:\n",
        "          print('[{:4d}] train sq. loss {:0.3f}'.format(epoch, loss))\n",
        "\n",
        "        if epoch % eval_epoch == 0:\n",
        "          # Save testing performance.\n",
        "          per_ens_member_ytest_pred = mimo_mlp(torch.tile(Xtest, (1, ens_size)))\n",
        "          ytest_pred[rep][ens_size][epoch] = per_ens_member_ytest_pred\n",
        "\n",
        "          per_ens_member_ytest_wide_pred = mimo_mlp(torch.tile(Xtest_wide, (1, ens_size)))\n",
        "          ytest_wide_pred[rep][ens_size][epoch] = per_ens_member_ytest_wide_pred  \n",
        "\n",
        "  return Xtest0, ytest, ytest_pred, Xtest0_wide, ytest_wide, ytest_wide_pred"
      ],
      "execution_count": 5,
      "outputs": []
    },
    {
      "cell_type": "code",
      "metadata": {
        "id": "e_ifFRAfcN8H"
      },
      "source": [
        "experiment_config = dict(\n",
        "    data_dim=1, \n",
        "    architecture=(32, 128),\n",
        "    n_train=64, \n",
        "    n_test=3000, \n",
        "    num_reps=20,\n",
        "    lr=0.01,\n",
        "    n_epochs=2000, \n",
        "    ens_sizes=(1,2,3,4,5))"
      ],
      "execution_count": 6,
      "outputs": []
    },
    {
      "cell_type": "code",
      "metadata": {
        "colab": {
          "base_uri": "https://localhost:8080/",
          "height": 621,
          "referenced_widgets": [
            "7b09092557f94c3298713dce705c4f1e",
            "9b903014f68b4972acb229892295a5ef",
            "375d1a4d1f564ea08cd35dd20f058b99",
            "01e44bcf93a44b25818c37bf7d9d5371",
            "7ced4e2ca86546c383c78688d3fdc67d",
            "0a55118db25a42ec9895c6d92959af2f",
            "ad7fae580cfd4f66b75b92fbc3169a13",
            "9da003b4bf0445ec8b21c8419036ca8a"
          ]
        },
        "id": "zeuy9rtgcVuv",
        "outputId": "8fcdfefb-befd-4d7a-ce06-faf8f26da223"
      },
      "source": [
        "Xtest, ytest, ytest_pred, Xtest_wide, ytest_wide, ytest_wide_pred = run_mimo(**experiment_config)"
      ],
      "execution_count": 7,
      "outputs": [
        {
          "output_type": "stream",
          "text": [
            "Repetition 0\n"
          ],
          "name": "stdout"
        },
        {
          "output_type": "display_data",
          "data": {
            "application/vnd.jupyter.widget-view+json": {
              "model_id": "7b09092557f94c3298713dce705c4f1e",
              "version_minor": 0,
              "version_major": 2
            },
            "text/plain": [
              "HBox(children=(FloatProgress(value=0.0, max=5.0), HTML(value='')))"
            ]
          },
          "metadata": {
            "tags": []
          }
        },
        {
          "output_type": "stream",
          "text": [
            "Sequential(\n",
            "  (0): Flatten(start_dim=1, end_dim=-1)\n",
            "  (1): Linear(in_features=1, out_features=32, bias=True)\n",
            "  (2): ReLU()\n",
            "  (3): Linear(in_features=32, out_features=128, bias=True)\n",
            "  (4): ReLU()\n",
            "  (5): Linear(in_features=128, out_features=1, bias=True)\n",
            ")\n",
            "Sequential(\n",
            "  (0): Flatten(start_dim=1, end_dim=-1)\n",
            "  (1): Linear(in_features=2, out_features=32, bias=True)\n",
            "  (2): ReLU()\n",
            "  (3): Linear(in_features=32, out_features=128, bias=True)\n",
            "  (4): ReLU()\n",
            "  (5): Linear(in_features=128, out_features=2, bias=True)\n",
            ")\n"
          ],
          "name": "stdout"
        },
        {
          "output_type": "error",
          "ename": "RuntimeError",
          "evalue": "ignored",
          "traceback": [
            "\u001b[0;31m---------------------------------------------------------------------------\u001b[0m",
            "\u001b[0;31mRuntimeError\u001b[0m                              Traceback (most recent call last)",
            "\u001b[0;32m<ipython-input-7-659fa52418cf>\u001b[0m in \u001b[0;36m<module>\u001b[0;34m()\u001b[0m\n\u001b[0;32m----> 1\u001b[0;31m \u001b[0mXtest\u001b[0m\u001b[0;34m,\u001b[0m \u001b[0mytest\u001b[0m\u001b[0;34m,\u001b[0m \u001b[0mytest_pred\u001b[0m\u001b[0;34m,\u001b[0m \u001b[0mXtest_wide\u001b[0m\u001b[0;34m,\u001b[0m \u001b[0mytest_wide\u001b[0m\u001b[0;34m,\u001b[0m \u001b[0mytest_wide_pred\u001b[0m \u001b[0;34m=\u001b[0m \u001b[0mrun_mimo\u001b[0m\u001b[0;34m(\u001b[0m\u001b[0;34m**\u001b[0m\u001b[0mexperiment_config\u001b[0m\u001b[0;34m)\u001b[0m\u001b[0;34m\u001b[0m\u001b[0;34m\u001b[0m\u001b[0m\n\u001b[0m",
            "\u001b[0;32m<ipython-input-5-912deaebe5e1>\u001b[0m in \u001b[0;36mrun_mimo\u001b[0;34m(architecture, ens_sizes, lr, batch_size, n_epochs, data_dim, data_noise, n_train, n_test, num_reps, eval_epoch, print_epoch)\u001b[0m\n\u001b[1;32m     77\u001b[0m         \u001b[0;32mif\u001b[0m \u001b[0mepoch\u001b[0m \u001b[0;34m%\u001b[0m \u001b[0meval_epoch\u001b[0m \u001b[0;34m==\u001b[0m \u001b[0;36m0\u001b[0m\u001b[0;34m:\u001b[0m\u001b[0;34m\u001b[0m\u001b[0;34m\u001b[0m\u001b[0m\n\u001b[1;32m     78\u001b[0m           \u001b[0;31m# Save testing performance.\u001b[0m\u001b[0;34m\u001b[0m\u001b[0;34m\u001b[0m\u001b[0;34m\u001b[0m\u001b[0m\n\u001b[0;32m---> 79\u001b[0;31m           \u001b[0mper_ens_member_ytest_pred\u001b[0m \u001b[0;34m=\u001b[0m \u001b[0mmimo_mlp\u001b[0m\u001b[0;34m(\u001b[0m\u001b[0mtorch\u001b[0m\u001b[0;34m.\u001b[0m\u001b[0mtile\u001b[0m\u001b[0;34m(\u001b[0m\u001b[0mXtest\u001b[0m\u001b[0;34m,\u001b[0m \u001b[0;34m(\u001b[0m\u001b[0;36m1\u001b[0m\u001b[0;34m,\u001b[0m \u001b[0mens_size\u001b[0m\u001b[0;34m)\u001b[0m\u001b[0;34m)\u001b[0m\u001b[0;34m)\u001b[0m\u001b[0;34m\u001b[0m\u001b[0;34m\u001b[0m\u001b[0m\n\u001b[0m\u001b[1;32m     80\u001b[0m           \u001b[0mytest_pred\u001b[0m\u001b[0;34m[\u001b[0m\u001b[0mrep\u001b[0m\u001b[0;34m]\u001b[0m\u001b[0;34m[\u001b[0m\u001b[0mens_size\u001b[0m\u001b[0;34m]\u001b[0m\u001b[0;34m[\u001b[0m\u001b[0mepoch\u001b[0m\u001b[0;34m]\u001b[0m \u001b[0;34m=\u001b[0m \u001b[0mper_ens_member_ytest_pred\u001b[0m\u001b[0;34m\u001b[0m\u001b[0;34m\u001b[0m\u001b[0m\n\u001b[1;32m     81\u001b[0m \u001b[0;34m\u001b[0m\u001b[0m\n",
            "\u001b[0;32m/usr/local/lib/python3.7/dist-packages/torch/nn/modules/module.py\u001b[0m in \u001b[0;36m_call_impl\u001b[0;34m(self, *input, **kwargs)\u001b[0m\n\u001b[1;32m   1049\u001b[0m         if not (self._backward_hooks or self._forward_hooks or self._forward_pre_hooks or _global_backward_hooks\n\u001b[1;32m   1050\u001b[0m                 or _global_forward_hooks or _global_forward_pre_hooks):\n\u001b[0;32m-> 1051\u001b[0;31m             \u001b[0;32mreturn\u001b[0m \u001b[0mforward_call\u001b[0m\u001b[0;34m(\u001b[0m\u001b[0;34m*\u001b[0m\u001b[0minput\u001b[0m\u001b[0;34m,\u001b[0m \u001b[0;34m**\u001b[0m\u001b[0mkwargs\u001b[0m\u001b[0;34m)\u001b[0m\u001b[0;34m\u001b[0m\u001b[0;34m\u001b[0m\u001b[0m\n\u001b[0m\u001b[1;32m   1052\u001b[0m         \u001b[0;31m# Do not call functions when jit is used\u001b[0m\u001b[0;34m\u001b[0m\u001b[0;34m\u001b[0m\u001b[0;34m\u001b[0m\u001b[0m\n\u001b[1;32m   1053\u001b[0m         \u001b[0mfull_backward_hooks\u001b[0m\u001b[0;34m,\u001b[0m \u001b[0mnon_full_backward_hooks\u001b[0m \u001b[0;34m=\u001b[0m \u001b[0;34m[\u001b[0m\u001b[0;34m]\u001b[0m\u001b[0;34m,\u001b[0m \u001b[0;34m[\u001b[0m\u001b[0;34m]\u001b[0m\u001b[0;34m\u001b[0m\u001b[0;34m\u001b[0m\u001b[0m\n",
            "\u001b[0;32m/usr/local/lib/python3.7/dist-packages/torch/nn/modules/container.py\u001b[0m in \u001b[0;36mforward\u001b[0;34m(self, input)\u001b[0m\n\u001b[1;32m    137\u001b[0m     \u001b[0;32mdef\u001b[0m \u001b[0mforward\u001b[0m\u001b[0;34m(\u001b[0m\u001b[0mself\u001b[0m\u001b[0;34m,\u001b[0m \u001b[0minput\u001b[0m\u001b[0;34m)\u001b[0m\u001b[0;34m:\u001b[0m\u001b[0;34m\u001b[0m\u001b[0;34m\u001b[0m\u001b[0m\n\u001b[1;32m    138\u001b[0m         \u001b[0;32mfor\u001b[0m \u001b[0mmodule\u001b[0m \u001b[0;32min\u001b[0m \u001b[0mself\u001b[0m\u001b[0;34m:\u001b[0m\u001b[0;34m\u001b[0m\u001b[0;34m\u001b[0m\u001b[0m\n\u001b[0;32m--> 139\u001b[0;31m             \u001b[0minput\u001b[0m \u001b[0;34m=\u001b[0m \u001b[0mmodule\u001b[0m\u001b[0;34m(\u001b[0m\u001b[0minput\u001b[0m\u001b[0;34m)\u001b[0m\u001b[0;34m\u001b[0m\u001b[0;34m\u001b[0m\u001b[0m\n\u001b[0m\u001b[1;32m    140\u001b[0m         \u001b[0;32mreturn\u001b[0m \u001b[0minput\u001b[0m\u001b[0;34m\u001b[0m\u001b[0;34m\u001b[0m\u001b[0m\n\u001b[1;32m    141\u001b[0m \u001b[0;34m\u001b[0m\u001b[0m\n",
            "\u001b[0;32m/usr/local/lib/python3.7/dist-packages/torch/nn/modules/module.py\u001b[0m in \u001b[0;36m_call_impl\u001b[0;34m(self, *input, **kwargs)\u001b[0m\n\u001b[1;32m   1049\u001b[0m         if not (self._backward_hooks or self._forward_hooks or self._forward_pre_hooks or _global_backward_hooks\n\u001b[1;32m   1050\u001b[0m                 or _global_forward_hooks or _global_forward_pre_hooks):\n\u001b[0;32m-> 1051\u001b[0;31m             \u001b[0;32mreturn\u001b[0m \u001b[0mforward_call\u001b[0m\u001b[0;34m(\u001b[0m\u001b[0;34m*\u001b[0m\u001b[0minput\u001b[0m\u001b[0;34m,\u001b[0m \u001b[0;34m**\u001b[0m\u001b[0mkwargs\u001b[0m\u001b[0;34m)\u001b[0m\u001b[0;34m\u001b[0m\u001b[0;34m\u001b[0m\u001b[0m\n\u001b[0m\u001b[1;32m   1052\u001b[0m         \u001b[0;31m# Do not call functions when jit is used\u001b[0m\u001b[0;34m\u001b[0m\u001b[0;34m\u001b[0m\u001b[0;34m\u001b[0m\u001b[0m\n\u001b[1;32m   1053\u001b[0m         \u001b[0mfull_backward_hooks\u001b[0m\u001b[0;34m,\u001b[0m \u001b[0mnon_full_backward_hooks\u001b[0m \u001b[0;34m=\u001b[0m \u001b[0;34m[\u001b[0m\u001b[0;34m]\u001b[0m\u001b[0;34m,\u001b[0m \u001b[0;34m[\u001b[0m\u001b[0;34m]\u001b[0m\u001b[0;34m\u001b[0m\u001b[0;34m\u001b[0m\u001b[0m\n",
            "\u001b[0;32m/usr/local/lib/python3.7/dist-packages/torch/nn/modules/linear.py\u001b[0m in \u001b[0;36mforward\u001b[0;34m(self, input)\u001b[0m\n\u001b[1;32m     94\u001b[0m \u001b[0;34m\u001b[0m\u001b[0m\n\u001b[1;32m     95\u001b[0m     \u001b[0;32mdef\u001b[0m \u001b[0mforward\u001b[0m\u001b[0;34m(\u001b[0m\u001b[0mself\u001b[0m\u001b[0;34m,\u001b[0m \u001b[0minput\u001b[0m\u001b[0;34m:\u001b[0m \u001b[0mTensor\u001b[0m\u001b[0;34m)\u001b[0m \u001b[0;34m->\u001b[0m \u001b[0mTensor\u001b[0m\u001b[0;34m:\u001b[0m\u001b[0;34m\u001b[0m\u001b[0;34m\u001b[0m\u001b[0m\n\u001b[0;32m---> 96\u001b[0;31m         \u001b[0;32mreturn\u001b[0m \u001b[0mF\u001b[0m\u001b[0;34m.\u001b[0m\u001b[0mlinear\u001b[0m\u001b[0;34m(\u001b[0m\u001b[0minput\u001b[0m\u001b[0;34m,\u001b[0m \u001b[0mself\u001b[0m\u001b[0;34m.\u001b[0m\u001b[0mweight\u001b[0m\u001b[0;34m,\u001b[0m \u001b[0mself\u001b[0m\u001b[0;34m.\u001b[0m\u001b[0mbias\u001b[0m\u001b[0;34m)\u001b[0m\u001b[0;34m\u001b[0m\u001b[0;34m\u001b[0m\u001b[0m\n\u001b[0m\u001b[1;32m     97\u001b[0m \u001b[0;34m\u001b[0m\u001b[0m\n\u001b[1;32m     98\u001b[0m     \u001b[0;32mdef\u001b[0m \u001b[0mextra_repr\u001b[0m\u001b[0;34m(\u001b[0m\u001b[0mself\u001b[0m\u001b[0;34m)\u001b[0m \u001b[0;34m->\u001b[0m \u001b[0mstr\u001b[0m\u001b[0;34m:\u001b[0m\u001b[0;34m\u001b[0m\u001b[0;34m\u001b[0m\u001b[0m\n",
            "\u001b[0;32m/usr/local/lib/python3.7/dist-packages/torch/nn/functional.py\u001b[0m in \u001b[0;36mlinear\u001b[0;34m(input, weight, bias)\u001b[0m\n\u001b[1;32m   1845\u001b[0m     \u001b[0;32mif\u001b[0m \u001b[0mhas_torch_function_variadic\u001b[0m\u001b[0;34m(\u001b[0m\u001b[0minput\u001b[0m\u001b[0;34m,\u001b[0m \u001b[0mweight\u001b[0m\u001b[0;34m)\u001b[0m\u001b[0;34m:\u001b[0m\u001b[0;34m\u001b[0m\u001b[0;34m\u001b[0m\u001b[0m\n\u001b[1;32m   1846\u001b[0m         \u001b[0;32mreturn\u001b[0m \u001b[0mhandle_torch_function\u001b[0m\u001b[0;34m(\u001b[0m\u001b[0mlinear\u001b[0m\u001b[0;34m,\u001b[0m \u001b[0;34m(\u001b[0m\u001b[0minput\u001b[0m\u001b[0;34m,\u001b[0m \u001b[0mweight\u001b[0m\u001b[0;34m)\u001b[0m\u001b[0;34m,\u001b[0m \u001b[0minput\u001b[0m\u001b[0;34m,\u001b[0m \u001b[0mweight\u001b[0m\u001b[0;34m,\u001b[0m \u001b[0mbias\u001b[0m\u001b[0;34m=\u001b[0m\u001b[0mbias\u001b[0m\u001b[0;34m)\u001b[0m\u001b[0;34m\u001b[0m\u001b[0;34m\u001b[0m\u001b[0m\n\u001b[0;32m-> 1847\u001b[0;31m     \u001b[0;32mreturn\u001b[0m \u001b[0mtorch\u001b[0m\u001b[0;34m.\u001b[0m\u001b[0m_C\u001b[0m\u001b[0;34m.\u001b[0m\u001b[0m_nn\u001b[0m\u001b[0;34m.\u001b[0m\u001b[0mlinear\u001b[0m\u001b[0;34m(\u001b[0m\u001b[0minput\u001b[0m\u001b[0;34m,\u001b[0m \u001b[0mweight\u001b[0m\u001b[0;34m,\u001b[0m \u001b[0mbias\u001b[0m\u001b[0;34m)\u001b[0m\u001b[0;34m\u001b[0m\u001b[0;34m\u001b[0m\u001b[0m\n\u001b[0m\u001b[1;32m   1848\u001b[0m \u001b[0;34m\u001b[0m\u001b[0m\n\u001b[1;32m   1849\u001b[0m \u001b[0;34m\u001b[0m\u001b[0m\n",
            "\u001b[0;31mRuntimeError\u001b[0m: CUDA out of memory. Tried to allocate 20.00 MiB (GPU 0; 14.76 GiB total capacity; 13.56 GiB already allocated; 11.75 MiB free; 13.69 GiB reserved in total by PyTorch)"
          ]
        }
      ]
    },
    {
      "cell_type": "code",
      "metadata": {
        "id": "XLQbR4tHxxjW"
      },
      "source": [
        ""
      ],
      "execution_count": null,
      "outputs": []
    }
  ]
}